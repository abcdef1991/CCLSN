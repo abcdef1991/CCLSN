{
 "cells": [
  {
   "cell_type": "raw",
   "metadata": {},
   "source": [
    "# -*- coding: utf-8 -*-\n",
    "\"\"\"\n",
    "Created on Thu Sep  5 11:14:42 2019\n",
    "\n",
    "@author: 彭钊\n",
    "\n",
    "将一维时序数据小波变换成二维时频数据\n",
    "\n",
    "所需额外扩展包：obspy、numpy、h5py、matplotlib、pywt、pycwt（自编）\n",
    "\n",
    "\"\"\""
   ]
  },
  {
   "cell_type": "code",
   "execution_count": 1,
   "metadata": {
    "collapsed": true
   },
   "outputs": [],
   "source": [
    "import numpy as np\n",
    "import h5py\n",
    "\n",
    "import matplotlib.pyplot as plt\n",
    "import pywt\n",
    "\n",
    "import pycwt"
   ]
  },
  {
   "cell_type": "markdown",
   "metadata": {
    "collapsed": true
   },
   "source": [
    "### 从hdf5文件中读取窗口化的一维时序数据\n"
   ]
  },
  {
   "cell_type": "code",
   "execution_count": 2,
   "metadata": {
    "collapsed": true
   },
   "outputs": [],
   "source": [
    "# 打开一维数据文件\n",
    "\n",
    "noise_dataset = h5py.File(r'F:\\PythonProjects\\CCLSN\\2-CWT\\inputdata\\TSH_noise.h5', \"r\")\n",
    "event_dataset = h5py.File(r'F:\\PythonProjects\\CCLSN\\2-CWT\\inputdata\\TSH_event.h5', \"r\")"
   ]
  },
  {
   "cell_type": "code",
   "execution_count": 3,
   "metadata": {
    "collapsed": true
   },
   "outputs": [],
   "source": [
    "# 读取文件数据\n",
    "\n",
    "noise_data = np.array(noise_dataset[\"noise\"][:])\n",
    "event_data = np.array(event_dataset[\"event\"][:])"
   ]
  },
  {
   "cell_type": "code",
   "execution_count": 5,
   "metadata": {},
   "outputs": [
    {
     "data": {
      "text/plain": [
       "(1556, 2501, 3)"
      ]
     },
     "execution_count": 5,
     "metadata": {},
     "output_type": "execute_result"
    }
   ],
   "source": [
    "# 验证数组结构，确保程序正常运行\n",
    "\n",
    "event_data.shape"
   ]
  },
  {
   "cell_type": "code",
   "execution_count": 6,
   "metadata": {},
   "outputs": [
    {
     "data": {
      "text/plain": [
       "(1440, 2501, 3)"
      ]
     },
     "execution_count": 6,
     "metadata": {},
     "output_type": "execute_result"
    }
   ],
   "source": [
    "# 验证数组结构，确保程序正常运行\n",
    "\n",
    "noise_data.shape"
   ]
  },
  {
   "cell_type": "code",
   "execution_count": null,
   "metadata": {
    "collapsed": true
   },
   "outputs": [],
   "source": []
  },
  {
   "cell_type": "markdown",
   "metadata": {},
   "source": [
    "## 这一部分为数据直接做小波变换和下采样后储存"
   ]
  },
  {
   "cell_type": "markdown",
   "metadata": {},
   "source": [
    "### 每一个样本的三分量一维时序数据分别做小波变换再堆叠成三分量的时频二维矩阵\n",
    "\n",
    "输入的时序数据数组的结构为**(m,n,3)**，m为样本个数，n为时序数据长度，3为3分量维度\n",
    "时序数据经过小波变换后转化为时频矩阵，此时，整个数据数组的结构变为\n",
    "**(m,f,t,3)**，m为样本个数，f为频域，t为时域，3为3分量维度。\n"
   ]
  },
  {
   "cell_type": "markdown",
   "metadata": {
    "collapsed": true
   },
   "source": [
    "主要功能函数由自编扩展包 **pycwt** 实现，主要功能函数有:\n",
    "+ **cwt4series(data,wavename = 'cmor3-3',totalscal = 46,sampling_rate = 100)** :一维时序数据进行小波时频变换\n",
    "+ **subs_matr(cwtmatr,n = 1,m = 10)** :对变换后的二维时频矩阵进行下采样，**下采样因子（即缩小倍数）频域为n，默认为 n = 1 ，时域为m，默认为 m = 10。**"
   ]
  },
  {
   "cell_type": "code",
   "execution_count": 7,
   "metadata": {
    "collapsed": true
   },
   "outputs": [],
   "source": [
    "# 数据采样率，本程序取原始采样率100Hz\n",
    "# sampling_rate = 100"
   ]
  },
  {
   "cell_type": "code",
   "execution_count": 8,
   "metadata": {
    "collapsed": true
   },
   "outputs": [],
   "source": [
    "# 每个窗口的时间序列，本程序的窗长为25.01s\n",
    "# time = 25.01\n",
    "# t = np.arange(0, time, 1.0 / sampling_rate)"
   ]
  },
  {
   "cell_type": "code",
   "execution_count": 11,
   "metadata": {
    "collapsed": true
   },
   "outputs": [],
   "source": [
    "# 小波变换所采用的的小波\n",
    "# 此为小波变换的关键参数之一，本程序采用cmor小波，参数分别取3,3\n",
    "\n",
    "# wavename = 'cmor3-3' 为cwt4series()默认小波"
   ]
  },
  {
   "cell_type": "code",
   "execution_count": null,
   "metadata": {
    "collapsed": true
   },
   "outputs": [],
   "source": [
    "# 小波变换后频率域的取值，小波变化后频率域的分布为0-（totalscal-1）\n",
    "# 小波变换频域的取值范围主要由地震事件的性质和仪器的相应频谱决定\n",
    "# 程序应用时，该参数需要根据实际情况做调整\n",
    "# 本程序默认取46，小波变换后的频域为0-45Hz\n",
    "\n",
    "# totalscal = 46 为cwt4series()默认频域"
   ]
  },
  {
   "cell_type": "code",
   "execution_count": null,
   "metadata": {
    "collapsed": true
   },
   "outputs": [],
   "source": [
    "# 对事件窗口进行小波变换\n",
    "\n",
    "DATA_e = []\n",
    "\n",
    "for i in np.arange(event_data.shape[0]):\n",
    "    data = []\n",
    "    for j in [0,1,2]:\n",
    "        event = event_data[i,:,j]\n",
    "        cwt = pycwt.cwt4series(event,sampling_rate = 100)\n",
    "        cwtmatr = pycwt.subs_matr(cwt[0])\n",
    "        data.append(cwtmatr)\n",
    "    data = np.array(data)\n",
    "    data = np.stack(data, axis=2)\n",
    "    DATA_e.append(data)\n",
    "    \n",
    "DATA_e = np.array(DATA_e)"
   ]
  },
  {
   "cell_type": "code",
   "execution_count": null,
   "metadata": {
    "collapsed": true
   },
   "outputs": [],
   "source": [
    "# 确保输出的数组结构正确\n",
    "\n",
    "DATA_e.shape"
   ]
  },
  {
   "cell_type": "code",
   "execution_count": null,
   "metadata": {
    "collapsed": true
   },
   "outputs": [],
   "source": [
    "# 对噪声窗口进行小波变换\n",
    "\n",
    "DATA_n = []\n",
    "\n",
    "for i in np.arange(noise_data.shape[0]):\n",
    "    data = []\n",
    "    for j in [0,1,2]:\n",
    "        noise = noise_data[i,:,j]\n",
    "        cwt = pycwt.cwt4series(noise,sampling_rate = 100)\n",
    "        cwtmatr = pycwt.subs_matr(cwt[0])\n",
    "        data.append(cwtmatr)\n",
    "    data = np.array(data)\n",
    "    data = np.stack(data, axis=2)\n",
    "    DATA_n.append(data)\n",
    "    \n",
    "DATA_n = np.array(DATA_n)"
   ]
  },
  {
   "cell_type": "code",
   "execution_count": null,
   "metadata": {
    "collapsed": true
   },
   "outputs": [],
   "source": [
    "# 确保输出的数组结构正确\n",
    "\n",
    "DATA_n.shape"
   ]
  },
  {
   "cell_type": "markdown",
   "metadata": {
    "collapsed": true
   },
   "source": [
    "### 将小波时频变换后的数组保存到hdf5文件\n",
    "\n",
    "便于机器学习模型读取"
   ]
  },
  {
   "cell_type": "code",
   "execution_count": null,
   "metadata": {
    "collapsed": true
   },
   "outputs": [],
   "source": [
    "with h5py.File(r'QKT_week1_cwt.h5','a') as f:\n",
    "    f.create_dataset('event',data = DATA_e)\n",
    "    f.create_dataset('noise',data = DATA_n)"
   ]
  },
  {
   "cell_type": "markdown",
   "metadata": {
    "collapsed": true
   },
   "source": [
    "### 关闭打开的数据文件"
   ]
  },
  {
   "cell_type": "code",
   "execution_count": null,
   "metadata": {
    "collapsed": true
   },
   "outputs": [],
   "source": [
    "noise_dataset.close()\n",
    "event_dataset.close()"
   ]
  },
  {
   "cell_type": "code",
   "execution_count": null,
   "metadata": {
    "collapsed": true
   },
   "outputs": [],
   "source": []
  },
  {
   "cell_type": "markdown",
   "metadata": {
    "collapsed": true
   },
   "source": [
    "## 这一部分为选择特定数据作小波变换后绘图展示"
   ]
  },
  {
   "cell_type": "markdown",
   "metadata": {},
   "source": [
    "#### 事件窗口绘图"
   ]
  },
  {
   "cell_type": "code",
   "execution_count": null,
   "metadata": {
    "collapsed": true
   },
   "outputs": [],
   "source": [
    "# 选择事件和方向分量\n",
    "event = event_data[3,:,0]\n",
    "\n",
    "[cwt, frequencies] = pycwt.cwt4series(event,sampling_rate = 100)\n",
    "cwtmatr = pycwt.subs_matr(cwt)"
   ]
  },
  {
   "cell_type": "code",
   "execution_count": null,
   "metadata": {
    "collapsed": true
   },
   "outputs": [],
   "source": [
    "t = np.arange(0, 40, 1.0 / 100)\n",
    "\n",
    "t1 = np.arange(0, 40, 1.0 / 10)"
   ]
  },
  {
   "cell_type": "code",
   "execution_count": null,
   "metadata": {
    "collapsed": true
   },
   "outputs": [],
   "source": [
    "plt.figure(figsize=(8, 16))\n",
    "plt.subplot(211)\n",
    "plt.plot(t, event)\n",
    "\n",
    "plt.subplot(212)\n",
    "plt.contourf(t1, frequencies, abs(cwtmatr))\n",
    "plt.show()"
   ]
  },
  {
   "cell_type": "markdown",
   "metadata": {},
   "source": [
    "#### 噪声窗口绘图"
   ]
  },
  {
   "cell_type": "code",
   "execution_count": null,
   "metadata": {
    "collapsed": true
   },
   "outputs": [],
   "source": [
    "# 选择事件和方向分量\n",
    "noise = noise_data[3,:,0]\n",
    "\n",
    "[cwt, frequencies] = pycwt.cwt4series(noise,sampling_rate = 100)\n",
    "cwtmatr = pycwt.subs_matr(cwt)"
   ]
  },
  {
   "cell_type": "code",
   "execution_count": null,
   "metadata": {
    "collapsed": true
   },
   "outputs": [],
   "source": [
    "plt.figure(figsize=(8, 16))\n",
    "plt.subplot(211)\n",
    "plt.plot(t, noise)\n",
    "\n",
    "plt.subplot(212)\n",
    "plt.contourf(t1, frequencies, abs(cwtmatr))\n",
    "plt.show()"
   ]
  },
  {
   "cell_type": "markdown",
   "metadata": {
    "collapsed": true
   },
   "source": [
    "### 关闭打开的数据文件"
   ]
  },
  {
   "cell_type": "code",
   "execution_count": null,
   "metadata": {
    "collapsed": true
   },
   "outputs": [],
   "source": [
    "noise_dataset.close()\n",
    "event_dataset.close()"
   ]
  },
  {
   "cell_type": "code",
   "execution_count": null,
   "metadata": {
    "collapsed": true
   },
   "outputs": [],
   "source": []
  }
 ],
 "metadata": {
  "kernelspec": {
   "display_name": "Python 3",
   "language": "python",
   "name": "python3"
  },
  "language_info": {
   "codemirror_mode": {
    "name": "ipython",
    "version": 3
   },
   "file_extension": ".py",
   "mimetype": "text/x-python",
   "name": "python",
   "nbconvert_exporter": "python",
   "pygments_lexer": "ipython3",
   "version": "3.7.7"
  }
 },
 "nbformat": 4,
 "nbformat_minor": 2
}
