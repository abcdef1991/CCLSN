{
 "cells": [
  {
   "cell_type": "raw",
   "metadata": {},
   "source": [
    "# -*- coding: utf-8 -*-\n",
    "\"\"\"\n",
    "Created on Thu Sep  5 11:14:42 2019\n",
    "\n",
    "@author: 彭钊\n",
    "\n",
    "轻量化CNN模型构建、训练、测试和保存，\n",
    "\n",
    "所需额外扩展包：keras、numpy、h5py、matplotlib\n",
    "\n",
    "pydot、graphviz（绘制模型结构图）\n",
    "\n",
    "\"\"\""
   ]
  },
  {
   "cell_type": "code",
   "execution_count": null,
   "metadata": {
    "collapsed": true
   },
   "outputs": [],
   "source": [
    "import numpy as np\n",
    "import keras\n",
    "from keras import layers\n",
    "from keras import regularizers\n",
    "from keras.layers import Input, Dense, Activation, ZeroPadding2D, BatchNormalization, Flatten, Conv2D\n",
    "from keras.layers import AveragePooling2D, MaxPooling2D, Dropout, GlobalMaxPooling2D, GlobalAveragePooling2D\n",
    "from keras.models import Model\n",
    "from keras import optimizers,losses\n",
    "from keras.preprocessing import image\n",
    "from keras.utils import layer_utils\n",
    "from keras.utils.data_utils import get_file\n",
    "from keras.applications.imagenet_utils import preprocess_input\n",
    "import pydot\n",
    "import graphviz\n",
    "from IPython.display import SVG\n",
    "from keras.utils.vis_utils import model_to_dot\n",
    "from keras.utils import plot_model\n",
    "import h5py\n",
    "\n",
    "import keras.backend as K\n",
    "# 训练数组表示样本通道的分量是最后一个\n",
    "K.set_image_data_format('channels_last')\n",
    "import matplotlib.pyplot as plt\n",
    "from matplotlib.pyplot import imshow"
   ]
  },
  {
   "cell_type": "code",
   "execution_count": null,
   "metadata": {
    "collapsed": true
   },
   "outputs": [],
   "source": [
    "# 数据文件\n",
    "\n",
    "file = r'QKT_week1_cwt.h5'"
   ]
  },
  {
   "cell_type": "code",
   "execution_count": null,
   "metadata": {
    "collapsed": true
   },
   "outputs": [],
   "source": [
    "# 读取训练和测试数据，验证地震事件和噪声窗口的数组结构\n",
    "\n",
    "dataset = h5py.File(file, \"r\")\n",
    "\n",
    "event_data = np.array(dataset[\"event\"][:]) \n",
    "noise_data = np.array(dataset[\"noise\"][:]) \n",
    "\n",
    "print(\"event_data shape: \" + str(event_data.shape))\n",
    "print(\"noise_data shape: \" + str(noise_data.shape))"
   ]
  },
  {
   "cell_type": "code",
   "execution_count": null,
   "metadata": {
    "collapsed": true
   },
   "outputs": [],
   "source": [
    "# 读取训练数据，验证训练数据集地震事件和噪声窗的数据结构\n",
    "# n为训练集地震事件和噪声数量，整个训练集的样本数为2n\n",
    "\n",
    "n = 800\n",
    "\n",
    "trainquake = event_data[0:n,:,:]\n",
    "trainnoise = noise_data[0:n,:,:]\n",
    "\n",
    "train_set_x = np.concatenate((trainquake,trainnoise), axis = 0)\n",
    "\n",
    "label_e = [1]*n\n",
    "label_n = [0]*n\n",
    "label_e.extend(label_n)\n",
    "\n",
    "train_set_y = np.array(label_e)\n",
    "train_set_y = train_set_y.reshape((-1,1))\n",
    "\n",
    "print(\"number of training examples = \" + str(train_set_x.shape[0]))\n",
    "print(\"X_train shape: \" + str(train_set_x.shape))\n",
    "print(\"Y_train shape: \" + str(train_set_y.shape))"
   ]
  },
  {
   "cell_type": "code",
   "execution_count": null,
   "metadata": {
    "collapsed": true
   },
   "outputs": [],
   "source": [
    "# 读取测试数据，验证测试数据集地震事件和噪声窗的数据结构\n",
    "# m为测试集地震事件和噪声数量，整个测试集的样本数为2m\n",
    "\n",
    "m = 300\n",
    "\n",
    "test_set_x_quake = event_data[1000:1000+m,:,:]\n",
    "test_set_x_noise = noise_data[1000:1000+m,:,:]\n",
    "\n",
    "test_set_y_quake = np.array([1]*m)\n",
    "test_set_y_noise = np.array([0]*m)\n",
    "\n",
    "test_set_y_qukae = test_set_y_quake.reshape((-1,1))\n",
    "test_set_y_noise = test_set_y_noise.reshape((-1,1))\n",
    "\n",
    "print(\"X_test quake shape: \" + str(test_set_x_quake.shape))\n",
    "print(\"Y_test quake shape: \" + str(test_set_y_quake.shape))\n",
    "print(\"X_test noise shape: \" + str(test_set_x_noise.shape))\n",
    "print(\"Y_test noise shape: \" + str(test_set_y_noise.shape))"
   ]
  },
  {
   "cell_type": "code",
   "execution_count": null,
   "metadata": {
    "collapsed": true
   },
   "outputs": [],
   "source": [
    "# 轻量化CNN模型的定义和训练\n",
    "\n",
    "def CCLSN_c2f1(input_shape):\n",
    "    \n",
    "    X_input = Input(input_shape)\n",
    "    \n",
    "    #conv1 \n",
    "    #CONV -> BN -> RELU\n",
    "    Z1 = Conv2D(12, 5, strides=(1,2), name=\"conv1\",padding=\"SAME\")(X_input)\n",
    "    bn1 = BatchNormalization(name=\"bn1\",axis=3)(Z1)\n",
    "    A1 = Activation(\"relu\")(bn1)\n",
    "    #MAXPOOL\n",
    "    pool1 = MaxPooling2D((2, 2),name=\"maxpool1\")(A1)\n",
    "    \n",
    "    #conv2\n",
    "    Z2 = Conv2D(12, 5, strides=(1, 2), name=\"conv2\",padding=\"SAME\")(pool1)\n",
    "    bn2 = BatchNormalization(name=\"bn2\",axis=3)(Z2)\n",
    "    A2 = Activation(\"relu\")(bn2)\n",
    "    pool2 = MaxPooling2D((1, 2),name=\"maxpool2\")(A2)\n",
    "    \n",
    "    # FLATTEN X (means convert it to a vector) + FULLYCONNECTED\n",
    "    flaten1 = Flatten()(pool2)\n",
    "    #kernel_regularizer=regularizers.l2(0.01),\n",
    "    Z3 = Dense(1, activation=\"sigmoid\",  name=\"fc\")(flaten1)\n",
    "    \n",
    "    # Create model. This creates your Keras model instance, you'll use this instance to train/test the model.\n",
    "    model = Model(inputs=X_input, outputs=Z3, name=\"NCLSN_c2f1\")\n",
    "    \n",
    "    ### END CODE HERE ###\n",
    "    \n",
    "    return model\n",
    "\n",
    "Model = CCLSN_c2f1((45,251,3))\n",
    "\n",
    "Model.compile(optimizer = \"Adam\", loss=\"binary_crossentropy\", metrics=['accuracy'])\n",
    "\n",
    "#EarlyStopping = keras.callbacks.EarlyStopping(monitor='loss', min_delta=0.003, patience=1)\n",
    "EarlyStopping = keras.callbacks.EarlyStopping(monitor='acc', min_delta=0.005, patience=1)\n",
    "\n",
    "#batch_size=100\n",
    "Model.fit(x=train_set_x,y=train_set_y, callbacks=[EarlyStopping], batch_size=200, epochs=15)"
   ]
  },
  {
   "cell_type": "code",
   "execution_count": null,
   "metadata": {
    "collapsed": true
   },
   "outputs": [],
   "source": [
    "# 模型精度测试\n",
    "\n",
    "preds_e = Model.evaluate(x=test_set_x_quake,y=test_set_y_quake)\n",
    "preds_n = Model.evaluate(x=test_set_x_noise,y=test_set_y_noise)\n",
    "\n",
    "print(\"Test event Accuracy = \" + str(preds_e[1]))\n",
    "print(\"Test noise Accuracy = \" + str(preds_n[1]))"
   ]
  },
  {
   "cell_type": "code",
   "execution_count": null,
   "metadata": {
    "collapsed": true
   },
   "outputs": [],
   "source": [
    "# 模型结构总结\n",
    "\n",
    "Model.summary()"
   ]
  },
  {
   "cell_type": "code",
   "execution_count": null,
   "metadata": {
    "collapsed": true
   },
   "outputs": [],
   "source": [
    "# 模型保存\n",
    "\n",
    "'''\n",
    "save方法保存模型的全部信息\n",
    "包括：模型的结构，以便重构该模型、模型的权重、训练配置（损失函数，优化器等）、优化器的状态，以便于从上次训练中断的地方开始\n",
    "model.save('****.h5')\n",
    "通过keras.models.load_model(filepath, custom_objects=None, compile=True)实例化模型\n",
    "\n",
    "model.to_json()或者model.to_yaml()\n",
    "只保存模型的结构（到json或者yaml格式），不包含权重或配置信息。返回一个json_string或者yaml_string。\n",
    "json_string = model.to_json()\n",
    "yaml_string = model.to_yaml()\n",
    "通过keras.models.model_from_json(json_string)或者keras.models.model_from_yaml(yaml_string)来载入模型（不包含权重和配置信息）。\n",
    "\n",
    "'''\n",
    "\n",
    "CCLSN_c2f1.save('CCLSN_c2f1.h5')"
   ]
  },
  {
   "cell_type": "code",
   "execution_count": null,
   "metadata": {
    "collapsed": true
   },
   "outputs": [],
   "source": [
    "# 模型结构绘图和保存\n",
    "\n",
    "plot_model(QuakeModel, to_file='./CCLSN_c2f1.png')\n",
    "SVG(model_to_dot(QuakeModel).create(prog='dot', format='svg'))"
   ]
  },
  {
   "cell_type": "code",
   "execution_count": null,
   "metadata": {
    "collapsed": true
   },
   "outputs": [],
   "source": []
  },
  {
   "cell_type": "code",
   "execution_count": null,
   "metadata": {
    "collapsed": true
   },
   "outputs": [],
   "source": []
  },
  {
   "cell_type": "code",
   "execution_count": null,
   "metadata": {
    "collapsed": true
   },
   "outputs": [],
   "source": []
  }
 ],
 "metadata": {
  "kernelspec": {
   "display_name": "Python 3",
   "language": "python",
   "name": "python3"
  },
  "language_info": {
   "codemirror_mode": {
    "name": "ipython",
    "version": 3
   },
   "file_extension": ".py",
   "mimetype": "text/x-python",
   "name": "python",
   "nbconvert_exporter": "python",
   "pygments_lexer": "ipython3",
   "version": "3.7.7"
  }
 },
 "nbformat": 4,
 "nbformat_minor": 2
}
